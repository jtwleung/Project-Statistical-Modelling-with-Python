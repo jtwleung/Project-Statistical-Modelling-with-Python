{
 "cells": [
  {
   "cell_type": "markdown",
   "metadata": {},
   "source": [
    "Build a regression model."
   ]
  },
  {
   "cell_type": "code",
   "execution_count": 105,
   "metadata": {},
   "outputs": [],
   "source": [
    "import pandas as pd\n",
    "import statsmodels.api as sm\n",
    "\n",
    "# Load the fsq_dfmodel.csv\n",
    "df = pd.read_csv('../data/fsq_dfmodel.csv')"
   ]
  },
  {
   "cell_type": "code",
   "execution_count": 106,
   "metadata": {},
   "outputs": [
    {
     "data": {
      "text/html": [
       "<div>\n",
       "<style scoped>\n",
       "    .dataframe tbody tr th:only-of-type {\n",
       "        vertical-align: middle;\n",
       "    }\n",
       "\n",
       "    .dataframe tbody tr th {\n",
       "        vertical-align: top;\n",
       "    }\n",
       "\n",
       "    .dataframe thead th {\n",
       "        text-align: right;\n",
       "    }\n",
       "</style>\n",
       "<table border=\"1\" class=\"dataframe\">\n",
       "  <thead>\n",
       "    <tr style=\"text-align: right;\">\n",
       "      <th></th>\n",
       "      <th>id</th>\n",
       "      <th>name</th>\n",
       "      <th>slots</th>\n",
       "      <th>lat</th>\n",
       "      <th>long</th>\n",
       "      <th>accoms</th>\n",
       "      <th>biketrail</th>\n",
       "      <th>outdoor</th>\n",
       "      <th>park</th>\n",
       "      <th>sightsee</th>\n",
       "      <th>snack</th>\n",
       "      <th>min_distance</th>\n",
       "    </tr>\n",
       "  </thead>\n",
       "  <tbody>\n",
       "    <tr>\n",
       "      <th>0</th>\n",
       "      <td>7a19c49f486d7c0c02b3685d7b240448</td>\n",
       "      <td>10th &amp; Cambie</td>\n",
       "      <td>36</td>\n",
       "      <td>49.262487</td>\n",
       "      <td>-123.114397</td>\n",
       "      <td>0</td>\n",
       "      <td>0</td>\n",
       "      <td>1</td>\n",
       "      <td>0</td>\n",
       "      <td>2</td>\n",
       "      <td>47</td>\n",
       "      <td>96.0</td>\n",
       "    </tr>\n",
       "    <tr>\n",
       "      <th>1</th>\n",
       "      <td>32603a87cfca71d0f7dfa3513bad69d5</td>\n",
       "      <td>Yaletown-Roundhouse Station</td>\n",
       "      <td>16</td>\n",
       "      <td>49.274566</td>\n",
       "      <td>-123.121817</td>\n",
       "      <td>50</td>\n",
       "      <td>0</td>\n",
       "      <td>0</td>\n",
       "      <td>23</td>\n",
       "      <td>6</td>\n",
       "      <td>50</td>\n",
       "      <td>29.0</td>\n",
       "    </tr>\n",
       "    <tr>\n",
       "      <th>2</th>\n",
       "      <td>6d42fa40360f9a6b2bf641c7b8bb2862</td>\n",
       "      <td>Dunsmuir &amp; Beatty</td>\n",
       "      <td>26</td>\n",
       "      <td>49.279764</td>\n",
       "      <td>-123.110154</td>\n",
       "      <td>50</td>\n",
       "      <td>0</td>\n",
       "      <td>7</td>\n",
       "      <td>22</td>\n",
       "      <td>22</td>\n",
       "      <td>50</td>\n",
       "      <td>59.0</td>\n",
       "    </tr>\n",
       "    <tr>\n",
       "      <th>3</th>\n",
       "      <td>66f873d641d448bd1572ab086665a458</td>\n",
       "      <td>12th &amp; Yukon (City Hall)</td>\n",
       "      <td>16</td>\n",
       "      <td>49.260599</td>\n",
       "      <td>-123.113504</td>\n",
       "      <td>10</td>\n",
       "      <td>1</td>\n",
       "      <td>1</td>\n",
       "      <td>16</td>\n",
       "      <td>2</td>\n",
       "      <td>0</td>\n",
       "      <td>128.0</td>\n",
       "    </tr>\n",
       "    <tr>\n",
       "      <th>4</th>\n",
       "      <td>485d4d24c803cfde829ab89699fed833</td>\n",
       "      <td>8th &amp; Ash</td>\n",
       "      <td>16</td>\n",
       "      <td>49.264215</td>\n",
       "      <td>-123.117772</td>\n",
       "      <td>10</td>\n",
       "      <td>0</td>\n",
       "      <td>1</td>\n",
       "      <td>0</td>\n",
       "      <td>2</td>\n",
       "      <td>36</td>\n",
       "      <td>74.0</td>\n",
       "    </tr>\n",
       "  </tbody>\n",
       "</table>\n",
       "</div>"
      ],
      "text/plain": [
       "                                 id                         name  slots  \\\n",
       "0  7a19c49f486d7c0c02b3685d7b240448                10th & Cambie     36   \n",
       "1  32603a87cfca71d0f7dfa3513bad69d5  Yaletown-Roundhouse Station     16   \n",
       "2  6d42fa40360f9a6b2bf641c7b8bb2862            Dunsmuir & Beatty     26   \n",
       "3  66f873d641d448bd1572ab086665a458     12th & Yukon (City Hall)     16   \n",
       "4  485d4d24c803cfde829ab89699fed833                    8th & Ash     16   \n",
       "\n",
       "         lat        long  accoms  biketrail  outdoor  park  sightsee  snack  \\\n",
       "0  49.262487 -123.114397       0          0        1     0         2     47   \n",
       "1  49.274566 -123.121817      50          0        0    23         6     50   \n",
       "2  49.279764 -123.110154      50          0        7    22        22     50   \n",
       "3  49.260599 -123.113504      10          1        1    16         2      0   \n",
       "4  49.264215 -123.117772      10          0        1     0         2     36   \n",
       "\n",
       "   min_distance  \n",
       "0          96.0  \n",
       "1          29.0  \n",
       "2          59.0  \n",
       "3         128.0  \n",
       "4          74.0  "
      ]
     },
     "execution_count": 106,
     "metadata": {},
     "output_type": "execute_result"
    }
   ],
   "source": [
    "df.head()"
   ]
  },
  {
   "cell_type": "code",
   "execution_count": 107,
   "metadata": {},
   "outputs": [
    {
     "data": {
      "text/html": [
       "<div>\n",
       "<style scoped>\n",
       "    .dataframe tbody tr th:only-of-type {\n",
       "        vertical-align: middle;\n",
       "    }\n",
       "\n",
       "    .dataframe tbody tr th {\n",
       "        vertical-align: top;\n",
       "    }\n",
       "\n",
       "    .dataframe thead th {\n",
       "        text-align: right;\n",
       "    }\n",
       "</style>\n",
       "<table border=\"1\" class=\"dataframe\">\n",
       "  <thead>\n",
       "    <tr style=\"text-align: right;\">\n",
       "      <th></th>\n",
       "      <th>slots</th>\n",
       "      <th>accoms</th>\n",
       "      <th>biketrail</th>\n",
       "      <th>outdoor</th>\n",
       "      <th>park</th>\n",
       "      <th>sightsee</th>\n",
       "      <th>snack</th>\n",
       "      <th>min_distance</th>\n",
       "    </tr>\n",
       "  </thead>\n",
       "  <tbody>\n",
       "    <tr>\n",
       "      <th>0</th>\n",
       "      <td>36</td>\n",
       "      <td>0</td>\n",
       "      <td>0</td>\n",
       "      <td>1</td>\n",
       "      <td>0</td>\n",
       "      <td>2</td>\n",
       "      <td>47</td>\n",
       "      <td>96.0</td>\n",
       "    </tr>\n",
       "    <tr>\n",
       "      <th>1</th>\n",
       "      <td>16</td>\n",
       "      <td>50</td>\n",
       "      <td>0</td>\n",
       "      <td>0</td>\n",
       "      <td>23</td>\n",
       "      <td>6</td>\n",
       "      <td>50</td>\n",
       "      <td>29.0</td>\n",
       "    </tr>\n",
       "    <tr>\n",
       "      <th>2</th>\n",
       "      <td>26</td>\n",
       "      <td>50</td>\n",
       "      <td>0</td>\n",
       "      <td>7</td>\n",
       "      <td>22</td>\n",
       "      <td>22</td>\n",
       "      <td>50</td>\n",
       "      <td>59.0</td>\n",
       "    </tr>\n",
       "    <tr>\n",
       "      <th>3</th>\n",
       "      <td>16</td>\n",
       "      <td>10</td>\n",
       "      <td>1</td>\n",
       "      <td>1</td>\n",
       "      <td>16</td>\n",
       "      <td>2</td>\n",
       "      <td>0</td>\n",
       "      <td>128.0</td>\n",
       "    </tr>\n",
       "    <tr>\n",
       "      <th>4</th>\n",
       "      <td>16</td>\n",
       "      <td>10</td>\n",
       "      <td>0</td>\n",
       "      <td>1</td>\n",
       "      <td>0</td>\n",
       "      <td>2</td>\n",
       "      <td>36</td>\n",
       "      <td>74.0</td>\n",
       "    </tr>\n",
       "  </tbody>\n",
       "</table>\n",
       "</div>"
      ],
      "text/plain": [
       "   slots  accoms  biketrail  outdoor  park  sightsee  snack  min_distance\n",
       "0     36       0          0        1     0         2     47          96.0\n",
       "1     16      50          0        0    23         6     50          29.0\n",
       "2     26      50          0        7    22        22     50          59.0\n",
       "3     16      10          1        1    16         2      0         128.0\n",
       "4     16      10          0        1     0         2     36          74.0"
      ]
     },
     "execution_count": 107,
     "metadata": {},
     "output_type": "execute_result"
    }
   ],
   "source": [
    "# Drop name, lat and long from the df because we do not need those as features in the linear regression\n",
    "df = df.drop(columns=['id', 'name', 'lat', 'long'])\n",
    "df.head()"
   ]
  },
  {
   "cell_type": "code",
   "execution_count": 108,
   "metadata": {},
   "outputs": [],
   "source": [
    "y = df['slots']\n",
    "\n",
    "#\n",
    "# Code credit:  Jeremy Eng (from W03D05-Model Evaluation lecture and notebook)\n",
    "# (I have made only a few tweaks to naming and adding comments in some places)\n",
    "#\n",
    "\n",
    "# X=[]\n",
    "# for column in df.columns[1:]:\n",
    "#     X.append(sm.add_constant(df[column]))\n",
    "\n",
    "# Create a model for each indep. variable\n",
    "# Put into list of X's (with constants)\n",
    "\n",
    "X = [sm.add_constant(df[column]) for column in df.columns[1:]] # accoms, biketrail, outdoor, park, sightsee, snack, min_distance"
   ]
  },
  {
   "cell_type": "code",
   "execution_count": 109,
   "metadata": {},
   "outputs": [
    {
     "name": "stdout",
     "output_type": "stream",
     "text": [
      "X[0]:      const  accoms\n",
      "0      1.0       0\n",
      "1      1.0      50\n",
      "2      1.0      50\n",
      "3      1.0      10\n",
      "4      1.0      10\n",
      "..     ...     ...\n",
      "240    1.0       4\n",
      "241    1.0      13\n",
      "242    1.0       2\n",
      "243    1.0       4\n",
      "244    1.0       5\n",
      "\n",
      "[245 rows x 2 columns]\n",
      "X[1]:      const  biketrail\n",
      "0      1.0          0\n",
      "1      1.0          0\n",
      "2      1.0          0\n",
      "3      1.0          1\n",
      "4      1.0          0\n",
      "..     ...        ...\n",
      "240    1.0          0\n",
      "241    1.0          0\n",
      "242    1.0          0\n",
      "243    1.0          0\n",
      "244    1.0          0\n",
      "\n",
      "[245 rows x 2 columns]\n",
      "X[2]:      const  outdoor\n",
      "0      1.0        1\n",
      "1      1.0        0\n",
      "2      1.0        7\n",
      "3      1.0        1\n",
      "4      1.0        1\n",
      "..     ...      ...\n",
      "240    1.0        0\n",
      "241    1.0        6\n",
      "242    1.0        0\n",
      "243    1.0        0\n",
      "244    1.0        3\n",
      "\n",
      "[245 rows x 2 columns]\n",
      "X[3]:      const  park\n",
      "0      1.0     0\n",
      "1      1.0    23\n",
      "2      1.0    22\n",
      "3      1.0    16\n",
      "4      1.0     0\n",
      "..     ...   ...\n",
      "240    1.0     9\n",
      "241    1.0    29\n",
      "242    1.0     3\n",
      "243    1.0     3\n",
      "244    1.0     7\n",
      "\n",
      "[245 rows x 2 columns]\n",
      "X[4]:      const  sightsee\n",
      "0      1.0         2\n",
      "1      1.0         6\n",
      "2      1.0        22\n",
      "3      1.0         2\n",
      "4      1.0         2\n",
      "..     ...       ...\n",
      "240    1.0         0\n",
      "241    1.0         8\n",
      "242    1.0         0\n",
      "243    1.0         0\n",
      "244    1.0         2\n",
      "\n",
      "[245 rows x 2 columns]\n",
      "X[5]:      const  snack\n",
      "0      1.0     47\n",
      "1      1.0     50\n",
      "2      1.0     50\n",
      "3      1.0      0\n",
      "4      1.0     36\n",
      "..     ...    ...\n",
      "240    1.0     10\n",
      "241    1.0     50\n",
      "242    1.0      3\n",
      "243    1.0      6\n",
      "244    1.0     19\n",
      "\n",
      "[245 rows x 2 columns]\n",
      "X[6]:      const  min_distance\n",
      "0      1.0          96.0\n",
      "1      1.0          29.0\n",
      "2      1.0          59.0\n",
      "3      1.0         128.0\n",
      "4      1.0          74.0\n",
      "..     ...           ...\n",
      "240    1.0         189.0\n",
      "241    1.0          35.0\n",
      "242    1.0          86.0\n",
      "243    1.0         246.0\n",
      "244    1.0          67.0\n",
      "\n",
      "[245 rows x 2 columns]\n"
     ]
    }
   ],
   "source": [
    "# Show what we have set up\n",
    "\n",
    "for i in range(len(X)):\n",
    "    print (f\"X[{i}]: {X[i]}\")"
   ]
  },
  {
   "cell_type": "code",
   "execution_count": 110,
   "metadata": {},
   "outputs": [],
   "source": [
    "# Create a list of Models\n",
    "Models = [sm.OLS(y,x) for x in X]\n",
    "\n",
    "# Create list of Results\n",
    "Results = [model.fit() for model in Models]\n",
    "\n",
    "# Create a list of Adj_Rsquared values for each model\n",
    "Adj_Rsquared = [results.rsquared_adj for results in Results]\n",
    "\n",
    "# Create list of p-values for each model\n",
    "Pval = [results.pvalues for results in Results]"
   ]
  },
  {
   "cell_type": "code",
   "execution_count": 111,
   "metadata": {},
   "outputs": [
    {
     "name": "stdout",
     "output_type": "stream",
     "text": [
      "adj_R2: 0.003,\tP-values: (9.648991077803056e-106, 0.2041096798150786),\t\tcolumn: accoms\n",
      "adj_R2: 0.010,\tP-values: (3.2991677144263846e-135, 0.06599128732164597),\t\tcolumn: biketrail\n",
      "adj_R2: 0.081,\tP-values: (1.3520809416106496e-107, 3.582120811743888e-06),\t\tcolumn: outdoor\n",
      "adj_R2: -0.003,\tP-values: (2.0643093847308137e-67, 0.6213063314285698),\t\tcolumn: park\n",
      "adj_R2: 0.011,\tP-values: (3.15377301830442e-109, 0.051805747907294815),\t\tcolumn: sightsee\n",
      "adj_R2: 0.009,\tP-values: (2.8385943108478697e-72, 0.07040979732475412),\t\tcolumn: snack\n",
      "adj_R2: 0.012,\tP-values: (1.806376798184194e-98, 0.05032746883191435),\t\tcolumn: min_distance\n"
     ]
    }
   ],
   "source": [
    "# Print out the adjusted Rsquared, p-values corresponding for the test in each feature\n",
    "for i in range(len(Adj_Rsquared)):\n",
    "     print(f'adj_R2: {Adj_Rsquared[i]:.3f},\\tP-values: {*Pval[i],},\\t\\tcolumn: {df.columns[i+1]}')"
   ]
  },
  {
   "cell_type": "markdown",
   "metadata": {},
   "source": [
    "The adj_R2 values all look not great, but the best/strongest one corresponds to \"outdoor\".  So, I will create a number of models that consist of \"outdoor\" and iterating through the remaining variables, and adding each one individually to the model that has \"outdoor\" in it."
   ]
  },
  {
   "cell_type": "markdown",
   "metadata": {},
   "source": [
    "For this run, best R2 was 0.081."
   ]
  },
  {
   "cell_type": "code",
   "execution_count": 96,
   "metadata": {},
   "outputs": [
    {
     "data": {
      "text/html": [
       "<div>\n",
       "<style scoped>\n",
       "    .dataframe tbody tr th:only-of-type {\n",
       "        vertical-align: middle;\n",
       "    }\n",
       "\n",
       "    .dataframe tbody tr th {\n",
       "        vertical-align: top;\n",
       "    }\n",
       "\n",
       "    .dataframe thead th {\n",
       "        text-align: right;\n",
       "    }\n",
       "</style>\n",
       "<table border=\"1\" class=\"dataframe\">\n",
       "  <thead>\n",
       "    <tr style=\"text-align: right;\">\n",
       "      <th></th>\n",
       "      <th>accoms</th>\n",
       "      <th>biketrail</th>\n",
       "      <th>park</th>\n",
       "      <th>sightsee</th>\n",
       "      <th>snack</th>\n",
       "      <th>min_distance</th>\n",
       "    </tr>\n",
       "  </thead>\n",
       "  <tbody>\n",
       "    <tr>\n",
       "      <th>0</th>\n",
       "      <td>0</td>\n",
       "      <td>0</td>\n",
       "      <td>0</td>\n",
       "      <td>2</td>\n",
       "      <td>47</td>\n",
       "      <td>96.0</td>\n",
       "    </tr>\n",
       "    <tr>\n",
       "      <th>1</th>\n",
       "      <td>50</td>\n",
       "      <td>0</td>\n",
       "      <td>23</td>\n",
       "      <td>6</td>\n",
       "      <td>50</td>\n",
       "      <td>29.0</td>\n",
       "    </tr>\n",
       "    <tr>\n",
       "      <th>2</th>\n",
       "      <td>50</td>\n",
       "      <td>0</td>\n",
       "      <td>22</td>\n",
       "      <td>22</td>\n",
       "      <td>50</td>\n",
       "      <td>59.0</td>\n",
       "    </tr>\n",
       "    <tr>\n",
       "      <th>3</th>\n",
       "      <td>10</td>\n",
       "      <td>1</td>\n",
       "      <td>16</td>\n",
       "      <td>2</td>\n",
       "      <td>0</td>\n",
       "      <td>128.0</td>\n",
       "    </tr>\n",
       "    <tr>\n",
       "      <th>4</th>\n",
       "      <td>10</td>\n",
       "      <td>0</td>\n",
       "      <td>0</td>\n",
       "      <td>2</td>\n",
       "      <td>36</td>\n",
       "      <td>74.0</td>\n",
       "    </tr>\n",
       "  </tbody>\n",
       "</table>\n",
       "</div>"
      ],
      "text/plain": [
       "   accoms  biketrail  park  sightsee  snack  min_distance\n",
       "0       0          0     0         2     47          96.0\n",
       "1      50          0    23         6     50          29.0\n",
       "2      50          0    22        22     50          59.0\n",
       "3      10          1    16         2      0         128.0\n",
       "4      10          0     0         2     36          74.0"
      ]
     },
     "execution_count": 96,
     "metadata": {},
     "output_type": "execute_result"
    }
   ],
   "source": [
    "remaining_var = df.drop(['slots', 'outdoor'], axis = 1)\n",
    "remaining_var.head()"
   ]
  },
  {
   "cell_type": "code",
   "execution_count": 97,
   "metadata": {},
   "outputs": [
    {
     "data": {
      "text/html": [
       "<div>\n",
       "<style scoped>\n",
       "    .dataframe tbody tr th:only-of-type {\n",
       "        vertical-align: middle;\n",
       "    }\n",
       "\n",
       "    .dataframe tbody tr th {\n",
       "        vertical-align: top;\n",
       "    }\n",
       "\n",
       "    .dataframe thead th {\n",
       "        text-align: right;\n",
       "    }\n",
       "</style>\n",
       "<table border=\"1\" class=\"dataframe\">\n",
       "  <thead>\n",
       "    <tr style=\"text-align: right;\">\n",
       "      <th></th>\n",
       "      <th>outdoor</th>\n",
       "    </tr>\n",
       "  </thead>\n",
       "  <tbody>\n",
       "    <tr>\n",
       "      <th>0</th>\n",
       "      <td>1</td>\n",
       "    </tr>\n",
       "    <tr>\n",
       "      <th>1</th>\n",
       "      <td>0</td>\n",
       "    </tr>\n",
       "    <tr>\n",
       "      <th>2</th>\n",
       "      <td>7</td>\n",
       "    </tr>\n",
       "    <tr>\n",
       "      <th>3</th>\n",
       "      <td>1</td>\n",
       "    </tr>\n",
       "    <tr>\n",
       "      <th>4</th>\n",
       "      <td>1</td>\n",
       "    </tr>\n",
       "    <tr>\n",
       "      <th>...</th>\n",
       "      <td>...</td>\n",
       "    </tr>\n",
       "    <tr>\n",
       "      <th>240</th>\n",
       "      <td>0</td>\n",
       "    </tr>\n",
       "    <tr>\n",
       "      <th>241</th>\n",
       "      <td>6</td>\n",
       "    </tr>\n",
       "    <tr>\n",
       "      <th>242</th>\n",
       "      <td>0</td>\n",
       "    </tr>\n",
       "    <tr>\n",
       "      <th>243</th>\n",
       "      <td>0</td>\n",
       "    </tr>\n",
       "    <tr>\n",
       "      <th>244</th>\n",
       "      <td>3</td>\n",
       "    </tr>\n",
       "  </tbody>\n",
       "</table>\n",
       "<p>245 rows × 1 columns</p>\n",
       "</div>"
      ],
      "text/plain": [
       "     outdoor\n",
       "0          1\n",
       "1          0\n",
       "2          7\n",
       "3          1\n",
       "4          1\n",
       "..       ...\n",
       "240        0\n",
       "241        6\n",
       "242        0\n",
       "243        0\n",
       "244        3\n",
       "\n",
       "[245 rows x 1 columns]"
      ]
     },
     "execution_count": 97,
     "metadata": {},
     "output_type": "execute_result"
    }
   ],
   "source": [
    "included_df = df[['outdoor']]\n",
    "included_df"
   ]
  },
  {
   "cell_type": "code",
   "execution_count": 98,
   "metadata": {},
   "outputs": [],
   "source": [
    "# Create a new X which is a list of all X's for model building, with constants\n",
    "X = [sm.add_constant(pd.merge(included_df, remaining_var[column], right_index=True, left_index=True)) for column in remaining_var.columns]"
   ]
  },
  {
   "cell_type": "code",
   "execution_count": 99,
   "metadata": {},
   "outputs": [
    {
     "name": "stdout",
     "output_type": "stream",
     "text": [
      "X[0]:      const  outdoor  accoms\n",
      "0      1.0        1       0\n",
      "1      1.0        0      50\n",
      "2      1.0        7      50\n",
      "3      1.0        1      10\n",
      "4      1.0        1      10\n",
      "..     ...      ...     ...\n",
      "240    1.0        0       4\n",
      "241    1.0        6      13\n",
      "242    1.0        0       2\n",
      "243    1.0        0       4\n",
      "244    1.0        3       5\n",
      "\n",
      "[245 rows x 3 columns]\n",
      "X[1]:      const  outdoor  biketrail\n",
      "0      1.0        1          0\n",
      "1      1.0        0          0\n",
      "2      1.0        7          0\n",
      "3      1.0        1          1\n",
      "4      1.0        1          0\n",
      "..     ...      ...        ...\n",
      "240    1.0        0          0\n",
      "241    1.0        6          0\n",
      "242    1.0        0          0\n",
      "243    1.0        0          0\n",
      "244    1.0        3          0\n",
      "\n",
      "[245 rows x 3 columns]\n",
      "X[2]:      const  outdoor  park\n",
      "0      1.0        1     0\n",
      "1      1.0        0    23\n",
      "2      1.0        7    22\n",
      "3      1.0        1    16\n",
      "4      1.0        1     0\n",
      "..     ...      ...   ...\n",
      "240    1.0        0     9\n",
      "241    1.0        6    29\n",
      "242    1.0        0     3\n",
      "243    1.0        0     3\n",
      "244    1.0        3     7\n",
      "\n",
      "[245 rows x 3 columns]\n",
      "X[3]:      const  outdoor  sightsee\n",
      "0      1.0        1         2\n",
      "1      1.0        0         6\n",
      "2      1.0        7        22\n",
      "3      1.0        1         2\n",
      "4      1.0        1         2\n",
      "..     ...      ...       ...\n",
      "240    1.0        0         0\n",
      "241    1.0        6         8\n",
      "242    1.0        0         0\n",
      "243    1.0        0         0\n",
      "244    1.0        3         2\n",
      "\n",
      "[245 rows x 3 columns]\n",
      "X[4]:      const  outdoor  snack\n",
      "0      1.0        1     47\n",
      "1      1.0        0     50\n",
      "2      1.0        7     50\n",
      "3      1.0        1      0\n",
      "4      1.0        1     36\n",
      "..     ...      ...    ...\n",
      "240    1.0        0     10\n",
      "241    1.0        6     50\n",
      "242    1.0        0      3\n",
      "243    1.0        0      6\n",
      "244    1.0        3     19\n",
      "\n",
      "[245 rows x 3 columns]\n",
      "X[5]:      const  outdoor  min_distance\n",
      "0      1.0        1          96.0\n",
      "1      1.0        0          29.0\n",
      "2      1.0        7          59.0\n",
      "3      1.0        1         128.0\n",
      "4      1.0        1          74.0\n",
      "..     ...      ...           ...\n",
      "240    1.0        0         189.0\n",
      "241    1.0        6          35.0\n",
      "242    1.0        0          86.0\n",
      "243    1.0        0         246.0\n",
      "244    1.0        3          67.0\n",
      "\n",
      "[245 rows x 3 columns]\n",
      "6\n"
     ]
    }
   ],
   "source": [
    "# Show what we have set up\n",
    "\n",
    "for i in range(len(X)):\n",
    "    print (f\"X[{i}]: {X[i]}\")\n",
    "\n",
    "print(len(X))"
   ]
  },
  {
   "cell_type": "code",
   "execution_count": 100,
   "metadata": {},
   "outputs": [
    {
     "name": "stdout",
     "output_type": "stream",
     "text": [
      "adj_R2: 0.081,\tP-values: (8.714626913656873e-100, 5.282092213467692e-06, 0.3296080051089667),\t\tcolumn: accoms\n",
      "adj_R2: 0.080,\tP-values: (2.3238710752667275e-101, 1.5469448743598226e-05, 0.41758485492202646),\t\tcolumn: biketrail\n",
      "adj_R2: 0.088,\tP-values: (6.091218205040602e-67, 9.559813885169966e-07, 0.09024940803327114),\t\tcolumn: park\n",
      "adj_R2: 0.077,\tP-values: (1.0173095268852584e-99, 2.6609647004021233e-05, 0.875515023636293),\t\tcolumn: sightsee\n",
      "adj_R2: 0.100,\tP-values: (2.5528412740222574e-68, 9.162179131087871e-07, 0.01456245835721607),\t\tcolumn: snack\n",
      "adj_R2: 0.083,\tP-values: (5.24193101169686e-77, 1.3004892303643901e-05, 0.23066627334341067),\t\tcolumn: min_distance\n"
     ]
    }
   ],
   "source": [
    "# Re-create all the \"stuff\": Models, Results, Adj_R2 and Pval for each combination of Outdoor and other variables\n",
    "\n",
    "# Create a list of Models\n",
    "Models = [sm.OLS(y,x) for x in X]\n",
    "\n",
    "# Create list of Results\n",
    "Results = [model.fit() for model in Models]\n",
    "\n",
    "# Create a list of Adj_Rsquared values for each model\n",
    "Adj_Rsquared = [results.rsquared_adj for results in Results]\n",
    "\n",
    "# Create list of p-values for each model\n",
    "Pval = [results.pvalues for results in Results]\n",
    "\n",
    "# Print out the results:\n",
    "for i in range(len(Adj_Rsquared)):\n",
    "     print(f'adj_R2: {Adj_Rsquared[i]:.3f},\\tP-values: {*Pval[i],},\\t\\tcolumn: {remaining_var.columns[i]}')"
   ]
  },
  {
   "cell_type": "markdown",
   "metadata": {},
   "source": [
    "The adj_R2 values are getting better than before, even though they're not so strong.  The next best/strongest one corresponds to \"snack\".  So, I will create a number of models that consist of \"outdoor\" and \"snack\" and iterating through the remaining variables, and adding each one individually to the model that has \"outdoor\" and \"snack\" in it."
   ]
  },
  {
   "cell_type": "markdown",
   "metadata": {},
   "source": [
    "For this run, best R2 was 0.100."
   ]
  },
  {
   "cell_type": "code",
   "execution_count": 69,
   "metadata": {},
   "outputs": [
    {
     "data": {
      "text/plain": [
       "Index(['slots', 'accoms', 'biketrail', 'outdoor', 'park', 'sightsee', 'snack',\n",
       "       'min_distance'],\n",
       "      dtype='object')"
      ]
     },
     "execution_count": 69,
     "metadata": {},
     "output_type": "execute_result"
    }
   ],
   "source": [
    "df.columns"
   ]
  },
  {
   "cell_type": "code",
   "execution_count": 70,
   "metadata": {},
   "outputs": [
    {
     "data": {
      "text/html": [
       "<div>\n",
       "<style scoped>\n",
       "    .dataframe tbody tr th:only-of-type {\n",
       "        vertical-align: middle;\n",
       "    }\n",
       "\n",
       "    .dataframe tbody tr th {\n",
       "        vertical-align: top;\n",
       "    }\n",
       "\n",
       "    .dataframe thead th {\n",
       "        text-align: right;\n",
       "    }\n",
       "</style>\n",
       "<table border=\"1\" class=\"dataframe\">\n",
       "  <thead>\n",
       "    <tr style=\"text-align: right;\">\n",
       "      <th></th>\n",
       "      <th>accoms</th>\n",
       "      <th>biketrail</th>\n",
       "      <th>park</th>\n",
       "      <th>sightsee</th>\n",
       "      <th>min_distance</th>\n",
       "    </tr>\n",
       "  </thead>\n",
       "  <tbody>\n",
       "    <tr>\n",
       "      <th>0</th>\n",
       "      <td>0</td>\n",
       "      <td>0</td>\n",
       "      <td>0</td>\n",
       "      <td>2</td>\n",
       "      <td>96.0</td>\n",
       "    </tr>\n",
       "    <tr>\n",
       "      <th>1</th>\n",
       "      <td>50</td>\n",
       "      <td>0</td>\n",
       "      <td>23</td>\n",
       "      <td>6</td>\n",
       "      <td>29.0</td>\n",
       "    </tr>\n",
       "    <tr>\n",
       "      <th>2</th>\n",
       "      <td>50</td>\n",
       "      <td>0</td>\n",
       "      <td>22</td>\n",
       "      <td>22</td>\n",
       "      <td>59.0</td>\n",
       "    </tr>\n",
       "    <tr>\n",
       "      <th>3</th>\n",
       "      <td>10</td>\n",
       "      <td>1</td>\n",
       "      <td>16</td>\n",
       "      <td>2</td>\n",
       "      <td>128.0</td>\n",
       "    </tr>\n",
       "    <tr>\n",
       "      <th>4</th>\n",
       "      <td>10</td>\n",
       "      <td>0</td>\n",
       "      <td>0</td>\n",
       "      <td>2</td>\n",
       "      <td>74.0</td>\n",
       "    </tr>\n",
       "  </tbody>\n",
       "</table>\n",
       "</div>"
      ],
      "text/plain": [
       "   accoms  biketrail  park  sightsee  min_distance\n",
       "0       0          0     0         2          96.0\n",
       "1      50          0    23         6          29.0\n",
       "2      50          0    22        22          59.0\n",
       "3      10          1    16         2         128.0\n",
       "4      10          0     0         2          74.0"
      ]
     },
     "execution_count": 70,
     "metadata": {},
     "output_type": "execute_result"
    }
   ],
   "source": [
    "remaining_var = df.drop(['slots', 'outdoor', 'snack'], axis = 1)\n",
    "remaining_var.head()"
   ]
  },
  {
   "cell_type": "code",
   "execution_count": 71,
   "metadata": {},
   "outputs": [],
   "source": [
    "included_df = df[['outdoor', 'snack']]"
   ]
  },
  {
   "cell_type": "code",
   "execution_count": 72,
   "metadata": {},
   "outputs": [],
   "source": [
    "# Create a new X which is a list of all X's for model building, with constants\n",
    "X = [sm.add_constant(pd.merge(included_df, remaining_var[column], right_index=True, left_index=True)) for column in remaining_var.columns]"
   ]
  },
  {
   "cell_type": "code",
   "execution_count": 73,
   "metadata": {},
   "outputs": [
    {
     "name": "stdout",
     "output_type": "stream",
     "text": [
      "X[0]:      const  outdoor  snack  accoms\n",
      "0      1.0        1     47       0\n",
      "1      1.0        0     50      50\n",
      "2      1.0        7     50      50\n",
      "3      1.0        1      0      10\n",
      "4      1.0        1     36      10\n",
      "..     ...      ...    ...     ...\n",
      "240    1.0        0     10       4\n",
      "241    1.0        6     50      13\n",
      "242    1.0        0      3       2\n",
      "243    1.0        0      6       4\n",
      "244    1.0        3     19       5\n",
      "\n",
      "[245 rows x 4 columns]\n",
      "X[1]:      const  outdoor  snack  biketrail\n",
      "0      1.0        1     47          0\n",
      "1      1.0        0     50          0\n",
      "2      1.0        7     50          0\n",
      "3      1.0        1      0          1\n",
      "4      1.0        1     36          0\n",
      "..     ...      ...    ...        ...\n",
      "240    1.0        0     10          0\n",
      "241    1.0        6     50          0\n",
      "242    1.0        0      3          0\n",
      "243    1.0        0      6          0\n",
      "244    1.0        3     19          0\n",
      "\n",
      "[245 rows x 4 columns]\n",
      "X[2]:      const  outdoor  snack  park\n",
      "0      1.0        1     47     0\n",
      "1      1.0        0     50    23\n",
      "2      1.0        7     50    22\n",
      "3      1.0        1      0    16\n",
      "4      1.0        1     36     0\n",
      "..     ...      ...    ...   ...\n",
      "240    1.0        0     10     9\n",
      "241    1.0        6     50    29\n",
      "242    1.0        0      3     3\n",
      "243    1.0        0      6     3\n",
      "244    1.0        3     19     7\n",
      "\n",
      "[245 rows x 4 columns]\n",
      "X[3]:      const  outdoor  snack  sightsee\n",
      "0      1.0        1     47         2\n",
      "1      1.0        0     50         6\n",
      "2      1.0        7     50        22\n",
      "3      1.0        1      0         2\n",
      "4      1.0        1     36         2\n",
      "..     ...      ...    ...       ...\n",
      "240    1.0        0     10         0\n",
      "241    1.0        6     50         8\n",
      "242    1.0        0      3         0\n",
      "243    1.0        0      6         0\n",
      "244    1.0        3     19         2\n",
      "\n",
      "[245 rows x 4 columns]\n",
      "X[4]:      const  outdoor  snack  min_distance\n",
      "0      1.0        1     47          96.0\n",
      "1      1.0        0     50          29.0\n",
      "2      1.0        7     50          59.0\n",
      "3      1.0        1      0         128.0\n",
      "4      1.0        1     36          74.0\n",
      "..     ...      ...    ...           ...\n",
      "240    1.0        0     10         189.0\n",
      "241    1.0        6     50          35.0\n",
      "242    1.0        0      3          86.0\n",
      "243    1.0        0      6         246.0\n",
      "244    1.0        3     19          67.0\n",
      "\n",
      "[245 rows x 4 columns]\n"
     ]
    }
   ],
   "source": [
    "# Show what we have set up\n",
    "\n",
    "for i in range(len(X)):\n",
    "    print (f\"X[{i}]: {X[i]}\")"
   ]
  },
  {
   "cell_type": "code",
   "execution_count": 74,
   "metadata": {},
   "outputs": [
    {
     "name": "stdout",
     "output_type": "stream",
     "text": [
      "adj_R2: 0.096,\tP-values: (1.8737219232141567e-67, 1.837433412467784e-05, 0.024956994061091305, 0.8637559010096311),\t\tcolumn: accoms\n",
      "adj_R2: 0.099,\tP-values: (1.4776261091056848e-66, 4.579990921001211e-06, 0.013692854235181507, 0.37477637185920276),\t\tcolumn: biketrail\n",
      "adj_R2: 0.100,\tP-values: (5.947515873576809e-59, 5.329234489337747e-07, 0.03968485322116129, 0.2845100806792245),\t\tcolumn: park\n",
      "adj_R2: 0.102,\tP-values: (2.7507509132929745e-68, 4.589591041219631e-05, 0.00593084180776688, 0.19872898606358624),\t\tcolumn: sightsee\n",
      "adj_R2: 0.108,\tP-values: (1.7630596442838366e-54, 4.222961343995133e-06, 0.00539503099783647, 0.07235017352529804),\t\tcolumn: min_distance\n"
     ]
    }
   ],
   "source": [
    "# Re-create all the \"stuff\": Models, Results, Adj_R2 and Pval for each combination of Outdoor PLUS Sightsee, and other variables\n",
    "\n",
    "# Create a list of Models\n",
    "Models = [sm.OLS(y,x) for x in X]\n",
    "\n",
    "# Create list of Results\n",
    "Results = [model.fit() for model in Models]\n",
    "\n",
    "# Create a list of Adj_Rsquared values for each model\n",
    "Adj_Rsquared = [results.rsquared_adj for results in Results]\n",
    "\n",
    "# Create list of p-values for each model\n",
    "Pval = [results.pvalues for results in Results]\n",
    "\n",
    "# Print out the results:\n",
    "for i in range(len(Adj_Rsquared)):\n",
    "          print(f'adj_R2: {Adj_Rsquared[i]:.3f},\\tP-values: {*Pval[i],},\\t\\tcolumn: {remaining_var.columns[i]}')"
   ]
  },
  {
   "cell_type": "markdown",
   "metadata": {},
   "source": [
    "The adj_R2 values are getting better than before, even though they're not so strong.  The next best/strongest one corresponds to \"min_distance\".  So, I will create a number of models that consist of \"outdoor\" plus \"snack\" plus \"min_distance\", and iterating through the remaining variables, and adding each one individually to the model that has \"outdoor\" plus \"snack\" plus \"min_distance\" in it."
   ]
  },
  {
   "cell_type": "markdown",
   "metadata": {},
   "source": [
    "For this run, best R2 was 0.108."
   ]
  },
  {
   "cell_type": "code",
   "execution_count": 76,
   "metadata": {},
   "outputs": [
    {
     "data": {
      "text/html": [
       "<div>\n",
       "<style scoped>\n",
       "    .dataframe tbody tr th:only-of-type {\n",
       "        vertical-align: middle;\n",
       "    }\n",
       "\n",
       "    .dataframe tbody tr th {\n",
       "        vertical-align: top;\n",
       "    }\n",
       "\n",
       "    .dataframe thead th {\n",
       "        text-align: right;\n",
       "    }\n",
       "</style>\n",
       "<table border=\"1\" class=\"dataframe\">\n",
       "  <thead>\n",
       "    <tr style=\"text-align: right;\">\n",
       "      <th></th>\n",
       "      <th>accoms</th>\n",
       "      <th>biketrail</th>\n",
       "      <th>park</th>\n",
       "      <th>sightsee</th>\n",
       "    </tr>\n",
       "  </thead>\n",
       "  <tbody>\n",
       "    <tr>\n",
       "      <th>0</th>\n",
       "      <td>0</td>\n",
       "      <td>0</td>\n",
       "      <td>0</td>\n",
       "      <td>2</td>\n",
       "    </tr>\n",
       "    <tr>\n",
       "      <th>1</th>\n",
       "      <td>50</td>\n",
       "      <td>0</td>\n",
       "      <td>23</td>\n",
       "      <td>6</td>\n",
       "    </tr>\n",
       "    <tr>\n",
       "      <th>2</th>\n",
       "      <td>50</td>\n",
       "      <td>0</td>\n",
       "      <td>22</td>\n",
       "      <td>22</td>\n",
       "    </tr>\n",
       "    <tr>\n",
       "      <th>3</th>\n",
       "      <td>10</td>\n",
       "      <td>1</td>\n",
       "      <td>16</td>\n",
       "      <td>2</td>\n",
       "    </tr>\n",
       "    <tr>\n",
       "      <th>4</th>\n",
       "      <td>10</td>\n",
       "      <td>0</td>\n",
       "      <td>0</td>\n",
       "      <td>2</td>\n",
       "    </tr>\n",
       "  </tbody>\n",
       "</table>\n",
       "</div>"
      ],
      "text/plain": [
       "   accoms  biketrail  park  sightsee\n",
       "0       0          0     0         2\n",
       "1      50          0    23         6\n",
       "2      50          0    22        22\n",
       "3      10          1    16         2\n",
       "4      10          0     0         2"
      ]
     },
     "execution_count": 76,
     "metadata": {},
     "output_type": "execute_result"
    }
   ],
   "source": [
    "remaining_var = df.drop(['slots', 'outdoor', 'snack', 'min_distance'], axis = 1)\n",
    "remaining_var.head()"
   ]
  },
  {
   "cell_type": "code",
   "execution_count": 77,
   "metadata": {},
   "outputs": [],
   "source": [
    "included_df = df[['outdoor', 'snack', 'min_distance']]"
   ]
  },
  {
   "cell_type": "code",
   "execution_count": 78,
   "metadata": {},
   "outputs": [],
   "source": [
    "# Create a new X which is a list of all X's for model building, with constants\n",
    "X = [sm.add_constant(pd.merge(included_df, remaining_var[column], right_index=True, left_index=True)) for column in remaining_var.columns]"
   ]
  },
  {
   "cell_type": "code",
   "execution_count": 80,
   "metadata": {},
   "outputs": [
    {
     "name": "stdout",
     "output_type": "stream",
     "text": [
      "X[0]:      const  outdoor  snack  min_distance  accoms\n",
      "0      1.0        1     47          96.0       0\n",
      "1      1.0        0     50          29.0      50\n",
      "2      1.0        7     50          59.0      50\n",
      "3      1.0        1      0         128.0      10\n",
      "4      1.0        1     36          74.0      10\n",
      "..     ...      ...    ...           ...     ...\n",
      "240    1.0        0     10         189.0       4\n",
      "241    1.0        6     50          35.0      13\n",
      "242    1.0        0      3          86.0       2\n",
      "243    1.0        0      6         246.0       4\n",
      "244    1.0        3     19          67.0       5\n",
      "\n",
      "[245 rows x 5 columns]\n",
      "X[1]:      const  outdoor  snack  min_distance  biketrail\n",
      "0      1.0        1     47          96.0          0\n",
      "1      1.0        0     50          29.0          0\n",
      "2      1.0        7     50          59.0          0\n",
      "3      1.0        1      0         128.0          1\n",
      "4      1.0        1     36          74.0          0\n",
      "..     ...      ...    ...           ...        ...\n",
      "240    1.0        0     10         189.0          0\n",
      "241    1.0        6     50          35.0          0\n",
      "242    1.0        0      3          86.0          0\n",
      "243    1.0        0      6         246.0          0\n",
      "244    1.0        3     19          67.0          0\n",
      "\n",
      "[245 rows x 5 columns]\n",
      "X[2]:      const  outdoor  snack  min_distance  park\n",
      "0      1.0        1     47          96.0     0\n",
      "1      1.0        0     50          29.0    23\n",
      "2      1.0        7     50          59.0    22\n",
      "3      1.0        1      0         128.0    16\n",
      "4      1.0        1     36          74.0     0\n",
      "..     ...      ...    ...           ...   ...\n",
      "240    1.0        0     10         189.0     9\n",
      "241    1.0        6     50          35.0    29\n",
      "242    1.0        0      3          86.0     3\n",
      "243    1.0        0      6         246.0     3\n",
      "244    1.0        3     19          67.0     7\n",
      "\n",
      "[245 rows x 5 columns]\n",
      "X[3]:      const  outdoor  snack  min_distance  sightsee\n",
      "0      1.0        1     47          96.0         2\n",
      "1      1.0        0     50          29.0         6\n",
      "2      1.0        7     50          59.0        22\n",
      "3      1.0        1      0         128.0         2\n",
      "4      1.0        1     36          74.0         2\n",
      "..     ...      ...    ...           ...       ...\n",
      "240    1.0        0     10         189.0         0\n",
      "241    1.0        6     50          35.0         8\n",
      "242    1.0        0      3          86.0         0\n",
      "243    1.0        0      6         246.0         0\n",
      "244    1.0        3     19          67.0         2\n",
      "\n",
      "[245 rows x 5 columns]\n"
     ]
    }
   ],
   "source": [
    "# Show what we have set up\n",
    "\n",
    "for i in range(len(X)):\n",
    "    print (f\"X[{i}]: {X[i]}\")"
   ]
  },
  {
   "cell_type": "code",
   "execution_count": 81,
   "metadata": {},
   "outputs": [
    {
     "name": "stdout",
     "output_type": "stream",
     "text": [
      "adj_R2: 0.104,\tP-values: (3.2099127732331563e-54, 3.6633394158086886e-05, 0.012867273341744203, 0.07423482704219862, 0.9792458831307089),\t\tcolumn: accoms\n",
      "adj_R2: 0.107,\tP-values: (1.1856003899502093e-53, 1.8928051793426897e-05, 0.005004679970170248, 0.0707483303247529, 0.36094313544405154),\t\tcolumn: biketrail\n",
      "adj_R2: 0.111,\tP-values: (2.7225445574046622e-48, 1.9148399157013025e-06, 0.017236970583423952, 0.05106041254780776, 0.18822051474939502),\t\tcolumn: park\n",
      "adj_R2: 0.110,\tP-values: (1.4732438453669472e-54, 0.000115104946110371, 0.002555217032966608, 0.08525483476706415, 0.2382136095610618),\t\tcolumn: sightsee\n"
     ]
    }
   ],
   "source": [
    "# Re-create all the \"stuff\": Models, Results, Adj_R2 and Pval for each combination of Outdoor PLUS Sightsee, and other variables\n",
    "\n",
    "# Create a list of Models\n",
    "Models = [sm.OLS(y,x) for x in X]\n",
    "\n",
    "# Create list of Results\n",
    "Results = [model.fit() for model in Models]\n",
    "\n",
    "# Create a list of Adj_Rsquared values for each model\n",
    "Adj_Rsquared = [results.rsquared_adj for results in Results]\n",
    "\n",
    "# Create list of p-values for each model\n",
    "Pval = [results.pvalues for results in Results]\n",
    "\n",
    "# Print out the results:\n",
    "for i in range(len(Adj_Rsquared)):\n",
    "          print(f'adj_R2: {Adj_Rsquared[i]:.3f},\\tP-values: {*Pval[i],},\\t\\tcolumn: {remaining_var.columns[i]}')"
   ]
  },
  {
   "cell_type": "markdown",
   "metadata": {},
   "source": [
    "The adj_R2 values are getting better than before, but are starting to plateau and not make that much improvement (recall that the best R2 from the last run was 0.108).  This will probably be the last run but we will add one more variable.  The next best/strongest one corresponds to \"park\", at 0.111 (barely above \"sightsee\" at 0.110).  So, I will create a number of models that consist of \"outdoor\" plus \"snack\" plus \"min_distance\" plus \"park\", and iterating through the remaining variables, and adding each one individually to the model that has \"outdoor\" plus \"snack\" plus \"min_distance\" plus \"park\" in it."
   ]
  },
  {
   "cell_type": "markdown",
   "metadata": {},
   "source": [
    "For this run, best R2 was 0.111."
   ]
  },
  {
   "cell_type": "code",
   "execution_count": 83,
   "metadata": {},
   "outputs": [
    {
     "data": {
      "text/html": [
       "<div>\n",
       "<style scoped>\n",
       "    .dataframe tbody tr th:only-of-type {\n",
       "        vertical-align: middle;\n",
       "    }\n",
       "\n",
       "    .dataframe tbody tr th {\n",
       "        vertical-align: top;\n",
       "    }\n",
       "\n",
       "    .dataframe thead th {\n",
       "        text-align: right;\n",
       "    }\n",
       "</style>\n",
       "<table border=\"1\" class=\"dataframe\">\n",
       "  <thead>\n",
       "    <tr style=\"text-align: right;\">\n",
       "      <th></th>\n",
       "      <th>accoms</th>\n",
       "      <th>biketrail</th>\n",
       "      <th>sightsee</th>\n",
       "    </tr>\n",
       "  </thead>\n",
       "  <tbody>\n",
       "    <tr>\n",
       "      <th>0</th>\n",
       "      <td>0</td>\n",
       "      <td>0</td>\n",
       "      <td>2</td>\n",
       "    </tr>\n",
       "    <tr>\n",
       "      <th>1</th>\n",
       "      <td>50</td>\n",
       "      <td>0</td>\n",
       "      <td>6</td>\n",
       "    </tr>\n",
       "    <tr>\n",
       "      <th>2</th>\n",
       "      <td>50</td>\n",
       "      <td>0</td>\n",
       "      <td>22</td>\n",
       "    </tr>\n",
       "    <tr>\n",
       "      <th>3</th>\n",
       "      <td>10</td>\n",
       "      <td>1</td>\n",
       "      <td>2</td>\n",
       "    </tr>\n",
       "    <tr>\n",
       "      <th>4</th>\n",
       "      <td>10</td>\n",
       "      <td>0</td>\n",
       "      <td>2</td>\n",
       "    </tr>\n",
       "  </tbody>\n",
       "</table>\n",
       "</div>"
      ],
      "text/plain": [
       "   accoms  biketrail  sightsee\n",
       "0       0          0         2\n",
       "1      50          0         6\n",
       "2      50          0        22\n",
       "3      10          1         2\n",
       "4      10          0         2"
      ]
     },
     "execution_count": 83,
     "metadata": {},
     "output_type": "execute_result"
    }
   ],
   "source": [
    "remaining_var = df.drop(['slots', 'outdoor', 'snack', 'min_distance', 'park'], axis = 1)\n",
    "remaining_var.head()"
   ]
  },
  {
   "cell_type": "code",
   "execution_count": 84,
   "metadata": {},
   "outputs": [],
   "source": [
    "included_df = df[['outdoor', 'snack', 'min_distance', 'park']]"
   ]
  },
  {
   "cell_type": "code",
   "execution_count": 85,
   "metadata": {},
   "outputs": [],
   "source": [
    "# Create a new X which is a list of all X's for model building, with constants\n",
    "X = [sm.add_constant(pd.merge(included_df, remaining_var[column], right_index=True, left_index=True)) for column in remaining_var.columns]"
   ]
  },
  {
   "cell_type": "code",
   "execution_count": 86,
   "metadata": {},
   "outputs": [
    {
     "name": "stdout",
     "output_type": "stream",
     "text": [
      "X[0]:      const  outdoor  snack  min_distance  park  accoms\n",
      "0      1.0        1     47          96.0     0       0\n",
      "1      1.0        0     50          29.0    23      50\n",
      "2      1.0        7     50          59.0    22      50\n",
      "3      1.0        1      0         128.0    16      10\n",
      "4      1.0        1     36          74.0     0      10\n",
      "..     ...      ...    ...           ...   ...     ...\n",
      "240    1.0        0     10         189.0     9       4\n",
      "241    1.0        6     50          35.0    29      13\n",
      "242    1.0        0      3          86.0     3       2\n",
      "243    1.0        0      6         246.0     3       4\n",
      "244    1.0        3     19          67.0     7       5\n",
      "\n",
      "[245 rows x 6 columns]\n",
      "X[1]:      const  outdoor  snack  min_distance  park  biketrail\n",
      "0      1.0        1     47          96.0     0          0\n",
      "1      1.0        0     50          29.0    23          0\n",
      "2      1.0        7     50          59.0    22          0\n",
      "3      1.0        1      0         128.0    16          1\n",
      "4      1.0        1     36          74.0     0          0\n",
      "..     ...      ...    ...           ...   ...        ...\n",
      "240    1.0        0     10         189.0     9          0\n",
      "241    1.0        6     50          35.0    29          0\n",
      "242    1.0        0      3          86.0     3          0\n",
      "243    1.0        0      6         246.0     3          0\n",
      "244    1.0        3     19          67.0     7          0\n",
      "\n",
      "[245 rows x 6 columns]\n",
      "X[2]:      const  outdoor  snack  min_distance  park  sightsee\n",
      "0      1.0        1     47          96.0     0         2\n",
      "1      1.0        0     50          29.0    23         6\n",
      "2      1.0        7     50          59.0    22        22\n",
      "3      1.0        1      0         128.0    16         2\n",
      "4      1.0        1     36          74.0     0         2\n",
      "..     ...      ...    ...           ...   ...       ...\n",
      "240    1.0        0     10         189.0     9         0\n",
      "241    1.0        6     50          35.0    29         8\n",
      "242    1.0        0      3          86.0     3         0\n",
      "243    1.0        0      6         246.0     3         0\n",
      "244    1.0        3     19          67.0     7         2\n",
      "\n",
      "[245 rows x 6 columns]\n"
     ]
    }
   ],
   "source": [
    "# Show what we have set up\n",
    "\n",
    "for i in range(len(X)):\n",
    "    print (f\"X[{i}]: {X[i]}\")"
   ]
  },
  {
   "cell_type": "code",
   "execution_count": 87,
   "metadata": {},
   "outputs": [
    {
     "name": "stdout",
     "output_type": "stream",
     "text": [
      "adj_R2: 0.107,\tP-values: (8.873579070974956e-48, 2.2277550270875802e-05, 0.023777064099365686, 0.05468097387934629, 0.1839294789934922, 0.8376269333366955),\t\tcolumn: accoms\n",
      "adj_R2: 0.110,\tP-values: (7.416788778088541e-48, 8.917014794616491e-06, 0.015975044218921312, 0.050281848293009544, 0.19630761545924952, 0.37821494870409134),\t\tcolumn: biketrail\n",
      "adj_R2: 0.113,\tP-values: (1.9884946019889366e-48, 5.6194173018598266e-05, 0.007640890797539014, 0.060179522270175555, 0.17205386651060156, 0.21671073856886824),\t\tcolumn: sightsee\n"
     ]
    }
   ],
   "source": [
    "# Re-create all the \"stuff\": Models, Results, Adj_R2 and Pval for each combination of Outdoor PLUS Sightsee, and other variables\n",
    "\n",
    "# Create a list of Models\n",
    "Models = [sm.OLS(y,x) for x in X]\n",
    "\n",
    "# Create list of Results\n",
    "Results = [model.fit() for model in Models]\n",
    "\n",
    "# Create a list of Adj_Rsquared values for each model\n",
    "Adj_Rsquared = [results.rsquared_adj for results in Results]\n",
    "\n",
    "# Create list of p-values for each model\n",
    "Pval = [results.pvalues for results in Results]\n",
    "\n",
    "# Print out the results:\n",
    "for i in range(len(Adj_Rsquared)):\n",
    "          print(f'adj_R2: {Adj_Rsquared[i]:.3f},\\tP-values: {*Pval[i],},\\t\\tcolumn: {remaining_var.columns[i]}')\n"
   ]
  },
  {
   "cell_type": "markdown",
   "metadata": {},
   "source": [
    "The R2 values are not making significant improvement so we will end with the model as is, with these variables:\n",
    "Y = number of slots of a bike station\n",
    "X = number of outdoor POIs, number of places to stop for a snack (coffee/tea/juice), minimum distance to the nearest POI of any type, and num of parks -- in a 1 km radius from the station."
   ]
  },
  {
   "cell_type": "code",
   "execution_count": 88,
   "metadata": {},
   "outputs": [
    {
     "name": "stdout",
     "output_type": "stream",
     "text": [
      "                            OLS Regression Results                            \n",
      "==============================================================================\n",
      "Dep. Variable:                  slots   R-squared:                       0.125\n",
      "Model:                            OLS   Adj. R-squared:                  0.111\n",
      "Method:                 Least Squares   F-statistic:                     8.599\n",
      "Date:                Sat, 21 Oct 2023   Prob (F-statistic):           1.68e-06\n",
      "Time:                        00:10:01   Log-Likelihood:                -745.84\n",
      "No. Observations:                 245   AIC:                             1502.\n",
      "Df Residuals:                     240   BIC:                             1519.\n",
      "Df Model:                           4                                         \n",
      "Covariance Type:            nonrobust                                         \n",
      "================================================================================\n",
      "                   coef    std err          t      P>|t|      [0.025      0.975]\n",
      "--------------------------------------------------------------------------------\n",
      "const           20.9344      1.128     18.561      0.000      18.713      23.156\n",
      "outdoor          0.6700      0.137      4.882      0.000       0.400       0.940\n",
      "snack           -0.0508      0.021     -2.398      0.017      -0.093      -0.009\n",
      "min_distance    -0.0084      0.004     -1.961      0.051      -0.017    3.88e-05\n",
      "park            -0.0603      0.046     -1.320      0.188      -0.150       0.030\n",
      "==============================================================================\n",
      "Omnibus:                       84.122   Durbin-Watson:                   1.765\n",
      "Prob(Omnibus):                  0.000   Jarque-Bera (JB):              219.382\n",
      "Skew:                           1.567   Prob(JB):                     2.30e-48\n",
      "Kurtosis:                       6.417   Cond. No.                         456.\n",
      "==============================================================================\n",
      "\n",
      "Notes:\n",
      "[1] Standard Errors assume that the covariance matrix of the errors is correctly specified.\n"
     ]
    }
   ],
   "source": [
    "# Let's do our linear regression with those 4 variables: outdoor, snack, min_distance, and park.\n",
    "\n",
    "y = df['slots']\n",
    "X = df[['outdoor', 'snack', 'min_distance', 'park']]\n",
    "\n",
    "X = sm.add_constant(X) # adding a constant\n",
    "model = sm.OLS(y,X)\n",
    "results = model.fit()\n",
    "print(results.summary())"
   ]
  },
  {
   "cell_type": "markdown",
   "metadata": {},
   "source": [
    "Interestingly, despite the hard work done earlier to try to determine the variables to include in the model to get the best model, the results above are showing that park is definitely not a significant contributor to the Y.  Let's drop it.  We may need to drop min_distance (barely significant p-value) as well."
   ]
  },
  {
   "cell_type": "code",
   "execution_count": 90,
   "metadata": {},
   "outputs": [
    {
     "name": "stdout",
     "output_type": "stream",
     "text": [
      "                            OLS Regression Results                            \n",
      "==============================================================================\n",
      "Dep. Variable:                  slots   R-squared:                       0.119\n",
      "Model:                            OLS   Adj. R-squared:                  0.108\n",
      "Method:                 Least Squares   F-statistic:                     10.85\n",
      "Date:                Sat, 21 Oct 2023   Prob (F-statistic):           1.03e-06\n",
      "Time:                        00:12:35   Log-Likelihood:                -746.73\n",
      "No. Observations:                 245   AIC:                             1501.\n",
      "Df Residuals:                     241   BIC:                             1515.\n",
      "Df Model:                           3                                         \n",
      "Covariance Type:            nonrobust                                         \n",
      "================================================================================\n",
      "                   coef    std err          t      P>|t|      [0.025      0.975]\n",
      "--------------------------------------------------------------------------------\n",
      "const           20.2179      0.990     20.420      0.000      18.268      22.168\n",
      "outdoor          0.6346      0.135      4.708      0.000       0.369       0.900\n",
      "snack           -0.0577      0.021     -2.808      0.005      -0.098      -0.017\n",
      "min_distance    -0.0076      0.004     -1.805      0.072      -0.016       0.001\n",
      "==============================================================================\n",
      "Omnibus:                       85.087   Durbin-Watson:                   1.761\n",
      "Prob(Omnibus):                  0.000   Jarque-Bera (JB):              226.282\n",
      "Skew:                           1.575   Prob(JB):                     7.30e-50\n",
      "Kurtosis:                       6.499   Cond. No.                         398.\n",
      "==============================================================================\n",
      "\n",
      "Notes:\n",
      "[1] Standard Errors assume that the covariance matrix of the errors is correctly specified.\n"
     ]
    }
   ],
   "source": [
    "# Let's do our linear regression with 3 variables: outdoor, snack, min_distance.\n",
    "\n",
    "y = df['slots']\n",
    "X = df[['outdoor', 'snack', 'min_distance']]\n",
    "\n",
    "X = sm.add_constant(X) # adding a constant\n",
    "model = sm.OLS(y,X)\n",
    "results = model.fit()\n",
    "print(results.summary())"
   ]
  },
  {
   "cell_type": "markdown",
   "metadata": {},
   "source": [
    "Once 'park' is dropped, min_distance's coefficient (which is small at -0.0076 to begin with) is not significantly different from 0.  We should drop min_distance as well, to tidy up our model and not include variables that have little impact, which may bar others from being able to use the model if they do not have these pieces of data, despite they do not have much impact on the prediction."
   ]
  },
  {
   "cell_type": "code",
   "execution_count": 91,
   "metadata": {},
   "outputs": [
    {
     "name": "stdout",
     "output_type": "stream",
     "text": [
      "                            OLS Regression Results                            \n",
      "==============================================================================\n",
      "Dep. Variable:                  slots   R-squared:                       0.107\n",
      "Model:                            OLS   Adj. R-squared:                  0.100\n",
      "Method:                 Least Squares   F-statistic:                     14.51\n",
      "Date:                Sat, 21 Oct 2023   Prob (F-statistic):           1.12e-06\n",
      "Time:                        00:12:59   Log-Likelihood:                -748.37\n",
      "No. Observations:                 245   AIC:                             1503.\n",
      "Df Residuals:                     242   BIC:                             1513.\n",
      "Df Model:                           2                                         \n",
      "Covariance Type:            nonrobust                                         \n",
      "==============================================================================\n",
      "                 coef    std err          t      P>|t|      [0.025      0.975]\n",
      "------------------------------------------------------------------------------\n",
      "const         19.0876      0.770     24.775      0.000      17.570      20.605\n",
      "outdoor        0.6735      0.134      5.039      0.000       0.410       0.937\n",
      "snack         -0.0496      0.020     -2.461      0.015      -0.089      -0.010\n",
      "==============================================================================\n",
      "Omnibus:                       75.621   Durbin-Watson:                   1.760\n",
      "Prob(Omnibus):                  0.000   Jarque-Bera (JB):              172.832\n",
      "Skew:                           1.467   Prob(JB):                     2.95e-38\n",
      "Kurtosis:                       5.884   Cond. No.                         86.5\n",
      "==============================================================================\n",
      "\n",
      "Notes:\n",
      "[1] Standard Errors assume that the covariance matrix of the errors is correctly specified.\n"
     ]
    }
   ],
   "source": [
    "# Let's do our linear regression with 2 variables: outdoor, snack.\n",
    "\n",
    "y = df['slots']\n",
    "X = df[['outdoor', 'snack']]\n",
    "\n",
    "X = sm.add_constant(X) # adding a constant\n",
    "model = sm.OLS(y,X)\n",
    "results = model.fit()\n",
    "print(results.summary())"
   ]
  },
  {
   "cell_type": "code",
   "execution_count": 112,
   "metadata": {},
   "outputs": [
    {
     "name": "stdout",
     "output_type": "stream",
     "text": [
      "const      2.552841e-68\n",
      "outdoor    9.162179e-07\n",
      "snack      1.456246e-02\n",
      "dtype: float64\n"
     ]
    }
   ],
   "source": [
    "# Print the precise p-values:\n",
    "print(results.pvalues)"
   ]
  },
  {
   "cell_type": "markdown",
   "metadata": {},
   "source": [
    "Provide model output and an interpretation of the results. "
   ]
  },
  {
   "cell_type": "code",
   "execution_count": 92,
   "metadata": {},
   "outputs": [],
   "source": [
    "# See above for model output."
   ]
  },
  {
   "cell_type": "markdown",
   "metadata": {},
   "source": [
    "## Interpretation of the results:\n",
    "\n",
    "- An Adjusted R-Squared value of only 0.100 indicates that this linear regression model does not explain much of the variance in the dependent variable, \"number of slots for each bike station\" (or number of bikes that are \"rentable\" at each bike station).\n",
    "- The low Adjusted R-Squared value indicates there may be other features/factors that are not in the model that contribute to the variance in the \"number of slots\".\n",
    "- Only approximately 10% of the variance in the dependent variable is explained by \"outdoor\" (number of POIs categorized as \"outdoor\") and \"snack\" (number of POIs categorized as \"snack\") variables.\n",
    "- Stated another way, this model is not a good fit for our data (Adjusted R-Squared is a measure of \"goodness of fit\").\n",
    "- That being said, the p-values for \"outdoor\" (p-value = 0.000000916) and \"snack\" (p-value=0.0146) are less than 0.01 and 0.05, respectively.\n",
    "    - This means that there is strong reason to reject the \"null hypothesis\", which is that the coefficients associated to these variables, in the linear equation relating number of slots to number of outdoor POIs and number of snack POIs, are not 0.\n",
    "    - **If** the model was doing a good job of explaining the variance in the dependent variable, the coefficients for \"outdoor\" and \"snack\" indicate:\n",
    "        - for every 1 increase in number of \"outdoor\" POIs, there is a 0.67 increase in number of bike slots\n",
    "        - for every 1 increase in number of \"snack\" POIs, there is a 0.05 *decrease* in number of bike slots\n",
    "\n",
    "- The current model states:  the predictor for number of slots in a given bike station, Y, is influenced by both:\n",
    "    - the number of POIs that are \"outdoor\" classification (i.e. Landmark, Beach, Historic Site, Scenic Lookout) within a 1 km radius, and\n",
    "    - the number of POIs that are \"snack classification (i.e. coffee, tea, or juice outfits)\n",
    "\n",
    "- If the linear regression line was represented as an equation, it would be something like:\n",
    "    - $num\\_slots = b_0+b_1(num\\_outdoor\\_POI)+b_2(num\\_snack\\_POI) \\ ,\\ where \\ b_0=19.0876, \\ b_1=0.6735, \\ b_2=-0.0496$\n",
    "\n",
    "------------\n",
    "\n",
    "#### Side Note: Commentary on the Forward Selection Model Evaluation Approach Used:\n",
    "\n",
    "Interestingly, we might have seen from earlier, that after adding the initial 2 x variables (\"outdoor\", \"snack\"), the highest adj.R^2 (0.100), that it wasn't worth adding additional x variables to the regression.  Recall the below was the result of all the other variables added to the model with \"outdoor\" plus \"snack\":  even adding \"min_distance\" to the model (so there were 3 variables:  \"outdoor\" and \"snack\" and \"miin_distance\") didn't increase the adj.R2 that we already got with \"outdoor\" and \"snack\" alone (0.100) by very much (0.108).  We could have \"quit\" at that point and only used \"outdoor\" and \"snack\" as the only 2 x variables in the model.  This is the same as the conclusion I just reached above.  So I almost did a combination of forward *and* backwards selection!\n",
    "\n",
    "##### Earlier results (copied from above) of additional columns added to the model with \"outdoor\" already in it as the first \"x\":\n",
    "- adj_R2: 0.096,\tP-values: (1.8737219232141567e-67, 1.837433412467784e-05, 0.024956994061091305, 0.8637559010096311),\t\tcolumn: accoms\n",
    "- adj_R2: 0.099,\tP-values: (1.4776261091056848e-66, 4.579990921001211e-06, 0.013692854235181507, 0.37477637185920276),\t\tcolumn: biketrail\n",
    "- adj_R2: 0.100,\tP-values: (5.947515873576809e-59, 5.329234489337747e-07, 0.03968485322116129, 0.2845100806792245),\t\t    column: park\n",
    "- adj_R2: 0.102,\tP-values: (2.7507509132929745e-68, 4.589591041219631e-05, 0.00593084180776688, 0.19872898606358624),\t\tcolumn: sightsee\n",
    "- adj_R2: 0.108,\tP-values: (1.7630596442838366e-54, 4.222961343995133e-06, 0.00539503099783647, 0.07235017352529804),\t\tcolumn: min_distance"
   ]
  },
  {
   "cell_type": "markdown",
   "metadata": {},
   "source": [
    "# Stretch"
   ]
  },
  {
   "cell_type": "markdown",
   "metadata": {},
   "source": [
    "Finally, execute a query to get all the POI information for a singular station, randomly choosing station_id = 'cc25ae4f093b33ba0afd1dbc0dd20324', to demonstrate a JOIN via SQL executed from Python.publish_display_data"
   ]
  },
  {
   "cell_type": "markdown",
   "metadata": {},
   "source": [
    "How can you turn the regression model into a classification model?"
   ]
  },
  {
   "cell_type": "markdown",
   "metadata": {},
   "source": [
    "Answer:  You can turn the \"thing to predict\" into a categorical result.  The easiest thing to turn this into a classification model would be to turn the prediction into something that is \"over\" or \"under\" a limit.  For example, the question could be \"Will the number of slots at the station be < 15 or > 15?\".  Then, the x variables in the model would determine the probability that the number of slots at the station is > 15 (for example Y encoded as '1') or is < 15 (for example Y encoded as '0').\n",
    "\n",
    "For multiple x's in a classification prediction, we would use multinomial regression (MNLogit) to build and evaluate the model."
   ]
  }
 ],
 "metadata": {
  "kernelspec": {
   "display_name": "Python 3",
   "language": "python",
   "name": "python3"
  },
  "language_info": {
   "codemirror_mode": {
    "name": "ipython",
    "version": 3
   },
   "file_extension": ".py",
   "mimetype": "text/x-python",
   "name": "python",
   "nbconvert_exporter": "python",
   "pygments_lexer": "ipython3",
   "version": "3.11.5"
  }
 },
 "nbformat": 4,
 "nbformat_minor": 4
}
